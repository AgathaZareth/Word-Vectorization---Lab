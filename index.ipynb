{
 "cells": [
  {
   "cell_type": "markdown",
   "metadata": {},
   "source": [
    "# Word Vectorization - Lab\n",
    "\n",
    "## Introduction\n",
    "\n",
    "In this lab, you'll tokenize and vectorize text documents, create and use a bag of words, and identify words unique to individual documents using TF-IDF vectorization. \n",
    "\n",
    "\n",
    "## Objectives\n",
    "\n",
    "In this lab you will:  \n",
    "\n",
    "- Implement tokenization and count vectorization from scratch \n",
    "- Implement TF-IDF from scratch \n",
    "- Use dimensionality reduction on vectorized text data to create and interpret visualizations \n",
    "\n",
    "## Let's get started!\n",
    "\n",
    "Run the cell below to import everything necessary for this lab.  "
   ]
  },
  {
   "cell_type": "code",
   "execution_count": 1,
   "metadata": {},
   "outputs": [],
   "source": [
    "import pandas as pd\n",
    "import numpy as np\n",
    "from mpl_toolkits.mplot3d import Axes3D\n",
    "import matplotlib.pyplot as plt\n",
    "%matplotlib inline\n",
    "from sklearn.manifold import TSNE\n",
    "from nltk.tokenize import word_tokenize\n",
    "import nltk\n",
    "nltk.download('punkt', quiet=True)\n",
    "np.random.seed(0)"
   ]
  },
  {
   "cell_type": "markdown",
   "metadata": {},
   "source": [
    "### Our Corpus\n",
    "\n",
    "In this lab, we'll be working with 20 different documents, each containing song lyrics from either Garth Brooks or Kendrick Lamar albums.  \n",
    "\n",
    "The songs are contained within the `data` subdirectory, contained within the same folder as this lab.  Each song is stored in a single file, with files ranging from `song1.txt` to `song20.txt`.  \n",
    "\n",
    "To make it easy to read in all of the documents, use a list comprehension to create a list containing the name of every single song file in the cell below. "
   ]
  },
  {
   "cell_type": "code",
   "execution_count": 2,
   "metadata": {},
   "outputs": [],
   "source": [
    "filenames = [f'song{n}.txt' for n in range(1,21)]"
   ]
  },
  {
   "cell_type": "markdown",
   "metadata": {},
   "source": [
    "Next, let's import a single song to see what our text looks like so that we can make sure we clean and tokenize it correctly. \n",
    "\n",
    "Use the code in the cell below to read in the lyrics from `song18.txt` as a list of lines, just using vanilla Python:"
   ]
  },
  {
   "cell_type": "code",
   "execution_count": 3,
   "metadata": {},
   "outputs": [
    {
     "data": {
      "text/plain": [
       "['[Kendrick Lamar:]\\n',\n",
       " \"Two wrongs don't make us right away\\n\",\n",
       " \"Tell me something's wrong\\n\",\n",
       " 'Party all of our lives away\\n',\n",
       " 'To take you on\\n',\n",
       " '[Zacari:]\\n',\n",
       " 'Oh, baby I want you\\n',\n",
       " 'Baby I need you\\n',\n",
       " 'I wanna see you\\n',\n",
       " 'Baby I wanna go out yeah\\n',\n",
       " 'Baby I wanna go out yeah\\n',\n",
       " 'Baby I want you\\n',\n",
       " 'Baby I need you\\n',\n",
       " 'I wanna see you\\n',\n",
       " 'Baby I wanna go out yeah\\n',\n",
       " 'Baby I wanna go out yeah\\n',\n",
       " 'All night (all night, all night)\\n',\n",
       " 'All night\\n',\n",
       " \"Your body's on fire\\n\",\n",
       " 'And your drinks on ice\\n',\n",
       " 'All night (all night, all night)\\n',\n",
       " 'All night\\n',\n",
       " \"Your body's on fire\\n\",\n",
       " 'And your drinks on ice\\n',\n",
       " '[Babes Wodumo:]\\n',\n",
       " 'Oh my word oh my gosh oh my word (Oh my gosh)\\n',\n",
       " 'Oh my word oh my gosh oh my word (Oh my gosh)\\n',\n",
       " 'Oh my word oh my gosh oh my word (Oh my gosh)\\n',\n",
       " 'Oh my word oh my gosh oh my word (Oh my gosh)\\n',\n",
       " 'Everybody say kikiritikiki (kikiritikiki)\\n',\n",
       " 'Everybody say kikiritikiki (kikiritikiki)\\n',\n",
       " 'Everybody say kikiritikiki (kikiritikiki)\\n',\n",
       " 'Everybody say kikiritikiki (kikiritikiki)\\n',\n",
       " \"Ung'bambe, ung'dedele. Ung'bhasobhe, ung'gudluke\\n\",\n",
       " \"Ung'bambe, ung'dedele. Ung'bhasobhe, ung'gudluke\\n\",\n",
       " \"Ung'bambe, ung'dedele. Ung'bhasobhe, ung'gudluke\\n\",\n",
       " \"Ung'bambe, ung'dedele. Ung'bhasobhe, ung'gudluke\\n\",\n",
       " '[Zacari:]\\n',\n",
       " 'Baby I want you\\n',\n",
       " 'Baby I need you\\n',\n",
       " 'I wanna see you\\n',\n",
       " 'Baby I wanna go out yeah\\n',\n",
       " 'Baby I wanna go out yeah\\n',\n",
       " 'Baby I want you\\n',\n",
       " 'Baby I need you\\n',\n",
       " 'I wanna see you\\n',\n",
       " 'Baby I wanna go out yeah\\n',\n",
       " 'Baby I wanna go out yeah\\n',\n",
       " 'All night (all night all night)\\n',\n",
       " 'All night\\n',\n",
       " \"Your body's on fire\\n\",\n",
       " 'And your drinks on ice\\n',\n",
       " 'All night (all night all night)\\n',\n",
       " 'All night\\n',\n",
       " \"Your body's on fire\\n\",\n",
       " 'And your drinks on ice\\n',\n",
       " '[Kendrick Lamar:]\\n',\n",
       " '(We go)\\n',\n",
       " 'High up (High up)\\n',\n",
       " 'High up (High up)\\n',\n",
       " 'High up (High up)\\n',\n",
       " 'High up (High up)\\n',\n",
       " 'High up (High up)\\n',\n",
       " 'High up (High up)\\n',\n",
       " 'High up (High up)\\n',\n",
       " 'High up (High up)\\n',\n",
       " '[?]\\n',\n",
       " '[Zacari:]\\n',\n",
       " 'Baby I want you\\n',\n",
       " 'Baby I need you\\n',\n",
       " 'I wanna see you\\n',\n",
       " 'Baby I wanna go out yeah\\n',\n",
       " 'Baby I wanna go out yeah\\n',\n",
       " 'Baby I want you\\n',\n",
       " 'Baby I need you\\n',\n",
       " 'I wanna see you\\n',\n",
       " 'Baby I wanna go out yeah\\n',\n",
       " 'Baby I wanna go out yeah\\n',\n",
       " 'All night (all night all night)\\n',\n",
       " 'All night\\n',\n",
       " \"Your body's on fire\\n\",\n",
       " 'And your drinks on ice\\n',\n",
       " 'All night (all night all night)\\n',\n",
       " 'All night\\n',\n",
       " \"Your body's on fire\\n\",\n",
       " 'And your drinks on ice\\n']"
      ]
     },
     "execution_count": 3,
     "metadata": {},
     "output_type": "execute_result"
    }
   ],
   "source": [
    "# Import and print song18.txt\n",
    "with open('data/song18.txt') as f:\n",
    "    test_song = f.readlines()\n",
    "    \n",
    "test_song"
   ]
  },
  {
   "cell_type": "markdown",
   "metadata": {},
   "source": [
    "### Tokenizing our Data\n",
    "\n",
    "Before we can create a bag of words or vectorize each document, we need to clean it up and split each song into an array of individual words. Our goal is to tken \n",
    "\n",
    "Consider the following sentences from the example above:\n",
    "\n",
    "`\"Two wrongs don't make us right away\\n\", \"Tell me something's wrong\\n\"`\n",
    "\n",
    "After tokenization, this should look like:\n",
    "\n",
    "`['two', 'wrongs', 'dont', 'make', 'us', 'right', 'away', 'tell', 'me', 'somethings', 'wrong']`\n",
    "\n",
    "Tokenization is pretty tedious if we handle it manually, and would probably make use of regular expressions, which is outside the scope of this lab. In order to keep this lab moving, we'll use a library function to clean and tokenize our data so that we can move onto vectorization.  \n",
    "\n",
    "Tokenization is a required task for just about any Natural Language Processing (NLP) task, so great industry-standard tools exist to tokenize things for us, so that we can spend our time on more important tasks without getting bogged down hunting every special symbol or punctuation in a massive dataset. For this lab, we'll make use of the tokenizer in the amazing `nltk` library, which is short for _Natural Language Tool Kit_.\n",
    "\n",
    "**_NOTE:_** NLTK requires extra installation methods to be run the first time certain methods are used.  If `nltk` throws you an error about needing to install additional packages, follow the instructions in the error message to install the dependencies, and then rerun the cell.  "
   ]
  },
  {
   "cell_type": "markdown",
   "metadata": {},
   "source": [
    "Before we tokenize, however, we need to do one more step! Computers are very particular about strings. If we tokenized our data in its current state, we would run into the following problems:\n",
    "\n",
    "- Counting things that aren't actually words.  In the example above, `\"[Kendrick Lamar:]\"` is a note specifying who is speaking, not a lyric contained in the actual song, so it should be removed. \n",
    "- Punctuation and capitalization would mess up our word counts. To the Python interpreter, `all`, `All`, and `(all` are unique words, and would all be counted separately.  We need to remove punctuation and capitalization, so that all words will be counted correctly. \n",
    "\n",
    "Before we tokenize our songs, we'll do only a small manual bit of cleaning. \n",
    "\n",
    "In the cell below, write a function to:\n",
    "- remove lines that just contain `['artist names']`\n",
    "- join the list of strings into one big string for the entire song\n",
    "- remove newline characters `\\n`\n",
    "- remove the following punctuation marks: `\",.'?!()\"`\n",
    "- make every word lowercase\n",
    "\n",
    "Test the function on `test_song` to show that it has successfully removed `'[Kendrick Lamar:]'` and other instances of artist names from the song, and is returning the song as one string (NOT a list of strings) with newlines (`\\n`) and punctuation removed and every word in lowercase."
   ]
  },
  {
   "cell_type": "code",
   "execution_count": 4,
   "metadata": {},
   "outputs": [],
   "source": [
    "def clean_song(song):\n",
    "    import string\n",
    "    cleaned = \"\"\n",
    "    for line in song:\n",
    "        if \"[\" and \"]\" not in line:\n",
    "            cleaned += line.translate(str.maketrans('', '', string.punctuation)).lower()\n",
    "            cleaned = cleaned.replace(\"\\n\", \" \")\n",
    "    return cleaned"
   ]
  },
  {
   "cell_type": "code",
   "execution_count": 5,
   "metadata": {},
   "outputs": [],
   "source": [
    "#### opps I used string.punctuation instead of following the instructions to just remove\n",
    "# \",.'?!()\" from the songs. This is throwing my numbers off a bit so I will overwrite function\n",
    "# name but I do not want to delete my version since I am sure it it more thorough having\n",
    "# used string.punctuation\n",
    "\n",
    "# SB version\n",
    "def clean_song(song):\n",
    "    clean_lines = [line for line in song if \"[\" not in line and \"]\" not in line]\n",
    "    clean_song = \" \".join(clean_lines)\n",
    "    for symbol in \",.'?!()\":\n",
    "        clean_song = clean_song.replace(symbol, \"\")\n",
    "    clean_song = clean_song.replace(\"\\n\", \"\")\n",
    "    return clean_song.lower()"
   ]
  },
  {
   "cell_type": "code",
   "execution_count": 6,
   "metadata": {},
   "outputs": [
    {
     "name": "stdout",
     "output_type": "stream",
     "text": [
      "two wrongs dont make us right away tell me somethings wrong party all of our lives away to take you on oh baby i want you baby i need you i wanna see you baby i wanna go out yeah baby i wanna go out yeah baby i want you baby i need you i wanna see you baby i wanna go out yeah baby i wanna go out yeah all night all night all night all night your bodys on fire and your drinks on ice all night all night all night all night your bodys on fire and your drinks on ice oh my word oh my gosh oh my word oh my gosh oh my word oh my gosh oh my word oh my gosh oh my word oh my gosh oh my word oh my gosh oh my word oh my gosh oh my word oh my gosh everybody say kikiritikiki kikiritikiki everybody say kikiritikiki kikiritikiki everybody say kikiritikiki kikiritikiki everybody say kikiritikiki kikiritikiki ungbambe ungdedele ungbhasobhe unggudluke ungbambe ungdedele ungbhasobhe unggudluke ungbambe ungdedele ungbhasobhe unggudluke ungbambe ungdedele ungbhasobhe unggudluke baby i want you baby i need you i wanna see you baby i wanna go out yeah baby i wanna go out yeah baby i want you baby i need you i wanna see you baby i wanna go out yeah baby i wanna go out yeah all night all night all night all night your bodys on fire and your drinks on ice all night all night all night all night your bodys on fire and your drinks on ice we go high up high up high up high up high up high up high up high up high up high up high up high up high up high up high up high up baby i want you baby i need you i wanna see you baby i wanna go out yeah baby i wanna go out yeah baby i want you baby i need you i wanna see you baby i wanna go out yeah baby i wanna go out yeah all night all night all night all night your bodys on fire and your drinks on ice all night all night all night all night your bodys on fire and your drinks on ice\n"
     ]
    }
   ],
   "source": [
    "clean_test_song = clean_song(test_song)\n",
    "print(clean_test_song)"
   ]
  },
  {
   "cell_type": "markdown",
   "metadata": {},
   "source": [
    "Great! Now, we can use `nltk`'s `word_tokenize()` function on the song string to get a fully tokenized version of the song. Test this function on `clean_test_song` to ensure that the function works. "
   ]
  },
  {
   "cell_type": "code",
   "execution_count": 7,
   "metadata": {},
   "outputs": [],
   "source": [
    "tokenized_test_song = word_tokenize(clean_test_song)"
   ]
  },
  {
   "cell_type": "code",
   "execution_count": 8,
   "metadata": {},
   "outputs": [
    {
     "name": "stdout",
     "output_type": "stream",
     "text": [
      "['two', 'wrongs', 'dont', 'make', 'us', 'right', 'away', 'tell', 'me', 'somethings', 'wrong', 'party', 'all', 'of', 'our', 'lives', 'away', 'to', 'take', 'you', 'on', 'oh', 'baby', 'i', 'want', 'you', 'baby', 'i', 'need', 'you', 'i', 'wan', 'na', 'see', 'you', 'baby', 'i', 'wan', 'na', 'go', 'out', 'yeah', 'baby', 'i', 'wan', 'na', 'go', 'out', 'yeah', 'baby', 'i', 'want', 'you', 'baby', 'i', 'need', 'you', 'i', 'wan', 'na', 'see', 'you', 'baby', 'i', 'wan', 'na', 'go', 'out', 'yeah', 'baby', 'i', 'wan', 'na', 'go', 'out', 'yeah', 'all', 'night', 'all', 'night', 'all', 'night', 'all', 'night', 'your', 'bodys', 'on', 'fire', 'and', 'your', 'drinks', 'on', 'ice', 'all', 'night', 'all', 'night', 'all', 'night', 'all', 'night', 'your', 'bodys', 'on', 'fire', 'and', 'your', 'drinks', 'on', 'ice', 'oh', 'my', 'word', 'oh', 'my', 'gosh', 'oh', 'my', 'word', 'oh', 'my', 'gosh', 'oh', 'my', 'word', 'oh', 'my', 'gosh', 'oh', 'my', 'word', 'oh', 'my', 'gosh', 'oh', 'my', 'word', 'oh', 'my', 'gosh', 'oh', 'my', 'word', 'oh', 'my', 'gosh', 'oh', 'my', 'word', 'oh', 'my', 'gosh', 'oh', 'my', 'word', 'oh', 'my', 'gosh', 'everybody', 'say', 'kikiritikiki', 'kikiritikiki', 'everybody', 'say', 'kikiritikiki', 'kikiritikiki', 'everybody', 'say', 'kikiritikiki', 'kikiritikiki', 'everybody', 'say', 'kikiritikiki', 'kikiritikiki', 'ungbambe', 'ungdedele', 'ungbhasobhe', 'unggudluke', 'ungbambe', 'ungdedele', 'ungbhasobhe', 'unggudluke', 'ungbambe', 'ungdedele', 'ungbhasobhe', 'unggudluke', 'ungbambe', 'ungdedele', 'ungbhasobhe', 'unggudluke', 'baby', 'i', 'want', 'you', 'baby', 'i', 'need', 'you', 'i', 'wan', 'na', 'see', 'you', 'baby', 'i', 'wan', 'na', 'go', 'out', 'yeah', 'baby', 'i', 'wan', 'na', 'go', 'out', 'yeah', 'baby', 'i', 'want', 'you', 'baby', 'i', 'need', 'you', 'i', 'wan', 'na', 'see', 'you', 'baby', 'i', 'wan', 'na', 'go', 'out', 'yeah', 'baby', 'i', 'wan', 'na', 'go', 'out', 'yeah', 'all', 'night', 'all', 'night', 'all', 'night', 'all', 'night', 'your', 'bodys', 'on', 'fire', 'and', 'your', 'drinks', 'on', 'ice', 'all', 'night', 'all', 'night', 'all', 'night', 'all', 'night', 'your', 'bodys', 'on', 'fire', 'and', 'your', 'drinks', 'on', 'ice', 'we', 'go', 'high', 'up', 'high', 'up', 'high', 'up', 'high', 'up', 'high', 'up', 'high', 'up', 'high', 'up', 'high', 'up', 'high', 'up', 'high', 'up', 'high', 'up', 'high', 'up', 'high', 'up', 'high', 'up', 'high', 'up', 'high', 'up', 'baby', 'i', 'want', 'you', 'baby', 'i', 'need', 'you', 'i', 'wan', 'na', 'see', 'you', 'baby', 'i', 'wan', 'na', 'go', 'out', 'yeah', 'baby', 'i', 'wan', 'na', 'go', 'out', 'yeah', 'baby', 'i', 'want', 'you', 'baby', 'i', 'need', 'you', 'i', 'wan', 'na', 'see', 'you', 'baby', 'i', 'wan', 'na', 'go', 'out', 'yeah', 'baby', 'i', 'wan', 'na', 'go', 'out', 'yeah', 'all', 'night', 'all', 'night', 'all', 'night', 'all', 'night', 'your', 'bodys', 'on', 'fire', 'and', 'your', 'drinks', 'on', 'ice', 'all', 'night', 'all', 'night', 'all', 'night', 'all', 'night', 'your', 'bodys', 'on', 'fire', 'and', 'your', 'drinks', 'on', 'ice']\n"
     ]
    }
   ],
   "source": [
    "print(tokenized_test_song)"
   ]
  },
  {
   "cell_type": "markdown",
   "metadata": {},
   "source": [
    "Great! Now that we can tokenize our songs, we can move onto vectorization. \n",
    "\n",
    "\n",
    "### Count Vectorization\n",
    "\n",
    "Machine Learning algorithms don't understand strings. However, they do understand math, which means they understand vectors and matrices.  By **_Vectorizing_** the text, we just convert the entire text into a vector, where each element in the vector represents a different word. The vector is the length of the entire vocabulary -- usually, every word that occurs in the English language, or at least every word that appears in our corpus.  Any given sentence can then be represented as a vector where all the vector is 1 (or some other value) for each time that word appears in the sentence. \n",
    "\n",
    "Consider the following example: \n",
    "\n",
    "<center>\"I scream, you scream, we all scream for ice cream.\"</center>\n",
    "\n",
    "| 'aardvark' | 'apple' | [...] | 'I' | 'you' | 'scream' | 'we' | 'all' | 'for' | 'ice' | 'cream' | [...] | 'xylophone' | 'zebra' |\n",
    "|:----------:|:-------:|:-----:|:---:|:-----:|:--------:|:----:|:-----:|:-----:|:-----:|:-------:|:-----:|:-----------:|:-------:|\n",
    "|      0     |    0    |   0   |  1  |   1   |     3    |   1  |   1   |   1   |   1   |    1    |   0   |      0      |    0    |\n",
    "\n",
    "This is called a **_Sparse Representation_**, since the strong majority of the columns will have a value of 0.  Note that elements corresponding to words that do not occur in the sentence have a value of 0, while words that do appear in the sentence have a value of 1 (or 1 for each time it appears in the sentence).\n",
    "\n",
    "Alternatively, we can represent this sentence as a plain old Python dictionary of word frequency counts:\n",
    "\n",
    "```python\n",
    "BoW = {\n",
    "    'I':1,\n",
    "    'you':1,\n",
    "    'scream':3,\n",
    "    'we':1,\n",
    "    'all':1,\n",
    "    'for':1,\n",
    "    'ice':1,\n",
    "    'cream':1\n",
    "}\n",
    "```\n",
    "\n",
    "Both of these are examples of **_Count Vectorization_**. They allow us to represent a sentence as a vector, with each element in the vector corresponding to how many times that word is used.\n",
    "\n",
    "#### Positional Information and Bag of Words\n",
    "\n",
    "Notice that when we vectorize a sentence this way, we lose the order that the words were in.  This is the **_Bag of Words_** approach mentioned earlier.  Note that sentences that contain the same words will create the same vectors, even if they mean different things -- e.g. `'cats are scared of dogs'` and `'dogs are scared of cats'` would both produce the exact same vector, since they contain the same words.  "
   ]
  },
  {
   "cell_type": "markdown",
   "metadata": {},
   "source": [
    "In the cell below, create a function that takes in a tokenized, cleaned song and returns a count vectorized representation of it as a Python dictionary.\n",
    "\n",
    "**_Hint:_**  Consider using a `set()` since you'll need each unique word in the tokenized song! "
   ]
  },
  {
   "cell_type": "code",
   "execution_count": 9,
   "metadata": {},
   "outputs": [
    {
     "name": "stdout",
     "output_type": "stream",
     "text": [
      "{'two': 1, 'wrongs': 1, 'dont': 1, 'make': 1, 'us': 1, 'right': 1, 'away': 2, 'tell': 1, 'me': 1, 'somethings': 1, 'wrong': 1, 'party': 1, 'all': 25, 'of': 1, 'our': 1, 'lives': 1, 'to': 1, 'take': 1, 'you': 19, 'on': 13, 'oh': 17, 'baby': 24, 'i': 30, 'want': 6, 'need': 6, 'wan': 18, 'na': 18, 'see': 6, 'go': 13, 'out': 12, 'yeah': 12, 'night': 24, 'your': 12, 'bodys': 6, 'fire': 6, 'and': 6, 'drinks': 6, 'ice': 6, 'my': 16, 'word': 8, 'gosh': 8, 'everybody': 4, 'say': 4, 'kikiritikiki': 8, 'ungbambe': 4, 'ungdedele': 4, 'ungbhasobhe': 4, 'unggudluke': 4, 'we': 1, 'high': 16, 'up': 16}\n"
     ]
    }
   ],
   "source": [
    "def count_vectorize(tokenized_song):\n",
    "    dictionary = {}\n",
    "    \n",
    "    for word in tokenized_song:\n",
    "        if word not in dictionary:\n",
    "            dictionary[word] = 1\n",
    "        else:\n",
    "            dictionary[word] += 1\n",
    "            \n",
    "    return dictionary\n",
    "\n",
    "test_vectorized = count_vectorize(tokenized_test_song)\n",
    "print(test_vectorized)"
   ]
  },
  {
   "cell_type": "markdown",
   "metadata": {},
   "source": [
    "Great! You've just successfully vectorized your first text document! Now, let's look at a more advanced type of vectorization, TF-IDF!\n",
    "\n",
    "### TF-IDF Vectorization\n",
    "\n",
    "TF-IDF stands for **_Term Frequency, Inverse Document Frequency_**.  This is a more advanced form of vectorization that weighs each term in a document by how unique it is to the given document it is contained in, which allows us to summarize the contents of a document using a few key words.  If the word is used often in many other documents, it is not unique, and therefore probably not too useful if we wanted to figure out how this document is unique in relation to other documents. Conversely, if a word is used many times in a document, but rarely in all the other documents we are considering, then it is likely a good indicator for telling us that this word is important to the document in question.  \n",
    "\n",
    "The formula TF-IDF uses to determine the weights of each term in a document is **_Term Frequency_** multiplied by **_Inverse Document Frequency_**. We just calculated our Term Frequency above with Count Vectorization!"
   ]
  },
  {
   "cell_type": "markdown",
   "metadata": {},
   "source": [
    "Now that we have this, we can easily calculate _Inverse Document Frequency_. Note that this will need ALL of our documents (aka our songs), not just an individual document - so we'll put off testing this function for now.\n",
    "\n",
    "In the cell below, complete a function that takes in a list of tokenized songs, with each item in the list being a clean, tokenized version of the song. The function should return a dictionary containing the inverse document frequency values for each word.  \n",
    "\n",
    "The formula for Inverse Document Frequency is:  \n",
    "<br>  \n",
    "<br>\n",
    "$$\\large \\text{IDF}(t) =  log_e(\\frac{\\text{Total Number of Documents}}{\\text{Number of Documents with } t \\text{ in it}})$$"
   ]
  },
  {
   "cell_type": "code",
   "execution_count": 10,
   "metadata": {},
   "outputs": [],
   "source": [
    "def inverse_document_frequency(list_of_token_songs):\n",
    "    # number of songs/documents\n",
    "    n_docs = len(list_of_token_songs)\n",
    "    \n",
    "    # get all the unique words from all the documents combined\n",
    "    unique_words = set([word for tok_song in list_of_token_songs for word in tok_song])\n",
    "    \n",
    "    # make dict out of set with all the values (n_docs_with_word) equal to 0\n",
    "    IDF_dict = {word:0 for word in unique_words}\n",
    "    \n",
    "    # for each word in IDF_dict...\n",
    "    for word in IDF_dict:\n",
    "        \n",
    "        # get number of songs with word in them\n",
    "        n_docs_with_word = 0                  # initialize counter\n",
    "        for tok_song in list_of_token_songs:  # for each song/doc in the list...\n",
    "            if word in tok_song:              # if word is in song...  \n",
    "                n_docs_with_word += 1         # add to counter\n",
    "        \n",
    "        # replace the value in IDF_dict with count\n",
    "        IDF_dict[word] = np.log(n_docs/n_docs_with_word)\n",
    "            \n",
    "    return IDF_dict"
   ]
  },
  {
   "cell_type": "markdown",
   "metadata": {},
   "source": [
    "### Computing TF-IDF\n",
    "\n",
    "Now that we can compute both Term Frequency and Inverse Document Frequency, computing an overall TF-IDF value is simple! All we need to do is multiply the two values.  \n",
    "\n",
    "In the cell below, complete the `tf_idf()` function.  This function should take in a list of tokenized songs, just as the `inverse_document_frequency()` function did.  This function returns a new list of dictionaries, with each dictionary containing the tf-idf vectorized representation of a corresponding song document. You'll need to calculate the term frequency for each song using the `count_vectorize()` function we defined above.\n",
    "\n",
    "**_NOTE:_** Each document should contain the full vocabulary of the entire combined corpus! So, even if a song doesn't have the word \"kikiritikiki\" (a vocalization in our test song), it should have a dictionary entry with that word as the key and `0` as the value."
   ]
  },
  {
   "cell_type": "code",
   "execution_count": 11,
   "metadata": {},
   "outputs": [],
   "source": [
    "def tf_idf(list_of_token_songs):\n",
    "    # get all the unique words from all the documents combined\n",
    "    unique_words = set([word for tok_song in list_of_token_songs for word in tok_song])\n",
    "    \n",
    "    IDF_dict = inverse_document_frequency(list_of_token_songs)\n",
    "\n",
    "    list_of_dictionaries = []\n",
    "    \n",
    "    for tok_song in list_of_token_songs:\n",
    "        # calculate the term frequency for each song using the count_vectorize() function \n",
    "        # this returns a dictionary with word count from the song/document\n",
    "        term_freq = count_vectorize(tok_song)\n",
    "        \n",
    "        # blank dict with ALL words from ALL songs, set values = 0 for now\n",
    "        blank = {word:0 for word in unique_words}\n",
    "        \n",
    "        # merge two dictionaries (second dic overwrites values in first)\n",
    "        merged = {**blank , **term_freq}\n",
    "        \n",
    "        # multiply together\n",
    "        weighted = {key: IDF_dict[key] * merged[key] for key in merged}\n",
    "        \n",
    "        # add weighted dict to list_of_dictionaries\n",
    "        list_of_dictionaries.append(weighted)\n",
    "    \n",
    "    return list_of_dictionaries"
   ]
  },
  {
   "cell_type": "markdown",
   "metadata": {},
   "source": [
    "### Vectorizing All Documents\n",
    "\n",
    "Now that we've created all the necessary helper functions, we can load in all of our documents and run each through the vectorization pipeline we've just created.\n",
    "\n",
    "In the cell below, complete the `main()` function.  This function should take in a list of file names (provided for you in the `filenames` list we created at the start), and then:\n",
    "\n",
    "- Read in each document into a list of raw songs (where each song is a list of strings)\n",
    "- Tokenize each document into a list of cleaned and tokenized songs\n",
    "- Return a list of dictionaries vectorized using `tf-idf`, where each dictionary is a vectorized representation of each song "
   ]
  },
  {
   "cell_type": "code",
   "execution_count": 12,
   "metadata": {},
   "outputs": [],
   "source": [
    "def main(filenames):\n",
    "\n",
    "    all_songs = []\n",
    "    for song in filenames:\n",
    "        with open(f'data/{song}') as f:\n",
    "            song_lyrics = f.readlines()\n",
    "            all_songs.append(song_lyrics)\n",
    "    \n",
    "    all_song_tokens = []\n",
    "\n",
    "    for song in all_songs:\n",
    "        tok_song = word_tokenize(clean_song(song))\n",
    "        all_song_tokens.append(tok_song)\n",
    "\n",
    "    tf_idf_all_docs = tf_idf(all_song_tokens)\n",
    "    return tf_idf_all_docs\n",
    "\n",
    "tf_idf_all_docs = main(filenames)"
   ]
  },
  {
   "cell_type": "markdown",
   "metadata": {},
   "source": [
    "### Visualizing our Vectorizations\n",
    "\n",
    "Now that we have a tf-idf representation of each document, we can move on to the fun part -- visualizing everything!\n",
    "\n",
    "In the cell below, examine our dictionaries to figure out how many dimensions our dataset has. \n",
    "\n",
    "**_HINT_**: Remember that every word is its own dimension!"
   ]
  },
  {
   "cell_type": "code",
   "execution_count": 13,
   "metadata": {},
   "outputs": [
    {
     "name": "stdout",
     "output_type": "stream",
     "text": [
      "Number of Dimensions: 1342\n"
     ]
    }
   ],
   "source": [
    "num_dims = len(tf_idf_all_docs[0])\n",
    "print(f\"Number of Dimensions: {num_dims}\")"
   ]
  },
  {
   "cell_type": "markdown",
   "metadata": {},
   "source": [
    "There are too many dimensions for us to visualize! In order to make it understandable to human eyes, we'll need to reduce it to 2 or 3 dimensions.  \n",
    "\n",
    "To do this, we'll use a technique called **_t-SNE_** (short for _t-Stochastic Neighbors Embedding_).  This is too complex for us to code ourselves, so we'll make use of scikit-learn's implementation of it.  \n",
    "\n",
    "First, we need to pull the words out of the dictionaries stored in `tf_idf_all_docs` so that only the values remain, and store them in lists instead of dictionaries.  This is because the t-SNE only works with array-like objects, not dictionaries.  \n",
    "\n",
    "In the cell below, create a list of lists that contains a list representation of the values of each of the dictionaries stored in `tf_idf_all_docs`.  The same structure should remain -- e.g. the first list should contain only the values that were in the first dictionary in `tf_idf_all_docs`, and so on. "
   ]
  },
  {
   "cell_type": "code",
   "execution_count": 14,
   "metadata": {},
   "outputs": [
    {
     "data": {
      "text/plain": [
       "[0.0, 0.0, 0.0, 0.0, 0.0, 0.0, 0.0, 0.0, 0.0, 0.0]"
      ]
     },
     "execution_count": 14,
     "metadata": {},
     "output_type": "execute_result"
    }
   ],
   "source": [
    "tf_idf_vals_list = [[v for k,v in d.items()] for d in tf_idf_all_docs]\n",
    "\n",
    "tf_idf_vals_list[0][:10]"
   ]
  },
  {
   "cell_type": "markdown",
   "metadata": {},
   "source": [
    "Now that we have only the values, we can use the `TSNE()` class from `sklearn` to transform our data appropriately. In the cell below, instantiate `TSNE()` with the following arguments:\n",
    "- `n_components=3` (so we can compare 2 vs 3 components when graphing)\n",
    "- `perplexity=19` (the highest number of neighbors explored given the size of our dataset)\n",
    "- `learning_rate=200` (a higher learning rate than using 'auto', to avoid getting stuck in a local minimum)\n",
    "- `init='random'` (so SKLearn will randomize the initialization)\n",
    "- `random_state=13` (so that random initialization won't be TOO random)\n",
    "\n",
    "Then, use the created object's `.fit_transform()` method to transform the data stored in `tf_idf_vals_list` into 3-dimensional data.  Then, inspect the newly transformed data to confirm that it has the correct dimensionality. "
   ]
  },
  {
   "cell_type": "code",
   "execution_count": 15,
   "metadata": {},
   "outputs": [
    {
     "data": {
      "text/plain": [
       "array([[  72.17791  ,   37.443684 , -116.68213  ],\n",
       "       [ -67.891136 ,   81.81856  ,  243.60434  ],\n",
       "       [ -24.182257 ,  109.413086 ,  440.08405  ],\n",
       "       [ -64.313835 ,   25.211964 , -268.2567   ],\n",
       "       [ 120.91158  ,  218.72166  ,  -17.992275 ],\n",
       "       [ 300.82266  ,  -74.27421  ,   91.64757  ],\n",
       "       [ 220.03706  , -117.81348  , -118.62039  ],\n",
       "       [ 108.55898  , -148.69943  ,   71.698326 ],\n",
       "       [ -73.65116  ,  231.3272   ,   43.416885 ],\n",
       "       [  31.005625 , -176.20738  , -172.3928   ],\n",
       "       [ 277.11734  ,   92.663025 ,  -58.398315 ],\n",
       "       [-112.07886  , -182.77405  ,  -17.11454  ],\n",
       "       [ 167.24355  ,   81.739235 ,  167.04172  ],\n",
       "       [ -63.69105  , -185.92758  ,  182.46227  ],\n",
       "       [-239.15219  ,   -2.7302566,  116.264694 ],\n",
       "       [-145.02255  ,   24.366793 ,  -61.43305  ],\n",
       "       [ 168.30348  ,   26.26588  ,  374.98557  ],\n",
       "       [  -2.244803 ,   21.746862 ,   74.41611  ],\n",
       "       [-163.42085  ,  202.15169  , -153.5312   ],\n",
       "       [-213.13747  , -136.83485  , -195.99536  ]], dtype=float32)"
      ]
     },
     "execution_count": 15,
     "metadata": {},
     "output_type": "execute_result"
    }
   ],
   "source": [
    "t_sne_object_3d = TSNE(n_components=3,\n",
    "                       perplexity=19,\n",
    "                       learning_rate=200, \n",
    "                       init='random',\n",
    "                       random_state=13)\n",
    "\n",
    "transformed_data_3d = t_sne_object_3d.fit_transform(np.array(tf_idf_vals_list))\n",
    "transformed_data_3d"
   ]
  },
  {
   "cell_type": "markdown",
   "metadata": {},
   "source": [
    "We'll also want to check out how the visualization looks in 2d.  Repeat the process above, but this time, instantiate `TSNE()` with 2 components instead of 3.  Again, use `.fit_transform()` to transform the data and store it in the variable below, and then inspect it to confirm the transformed data has only 2 dimensions. "
   ]
  },
  {
   "cell_type": "code",
   "execution_count": 16,
   "metadata": {},
   "outputs": [
    {
     "data": {
      "text/plain": [
       "array([[  33.22776  ,   95.35896  ],\n",
       "       [ -22.805809 , -141.09244  ],\n",
       "       [ -51.266922 ,  -48.038868 ],\n",
       "       [-225.76776  ,  -94.223045 ],\n",
       "       [  58.735867 ,  -87.52201  ],\n",
       "       [ -15.463868 , -244.34956  ],\n",
       "       [  18.84531  ,    3.7228637],\n",
       "       [ 214.41714  ,    2.8757088],\n",
       "       [ 111.275665 ,    0.8636966],\n",
       "       [  90.043365 , -193.43053  ],\n",
       "       [ 144.8562   ,  106.657814 ],\n",
       "       [ -64.06784  ,   61.506577 ],\n",
       "       [  59.135918 ,  196.00252  ],\n",
       "       [ -58.603584 ,  172.06688  ],\n",
       "       [-236.7647   ,   30.09216  ],\n",
       "       [-123.48959  , -109.93242  ],\n",
       "       [-134.10022  , -212.06287  ],\n",
       "       [ 167.00887  , -108.54331  ],\n",
       "       [-138.71497  ,   -3.2438464],\n",
       "       [-158.6191   ,  118.98085  ]], dtype=float32)"
      ]
     },
     "execution_count": 16,
     "metadata": {},
     "output_type": "execute_result"
    }
   ],
   "source": [
    "t_sne_object_2d = TSNE(n_components=2,\n",
    "                       perplexity=19,\n",
    "                       learning_rate=200, \n",
    "                       init='random',\n",
    "                       random_state=13)\n",
    "\n",
    "transformed_data_2d = t_sne_object_2d.fit_transform(np.array(tf_idf_vals_list))\n",
    "transformed_data_2d"
   ]
  },
  {
   "cell_type": "markdown",
   "metadata": {},
   "source": [
    "Now, let's visualize everything!  Run the cell below to view both 3D and 2D visualizations of the songs."
   ]
  },
  {
   "cell_type": "code",
   "execution_count": 17,
   "metadata": {},
   "outputs": [
    {
     "data": {
      "image/png": "[encoded data removed]",
      "text/plain": [
       "<Figure size 720x360 with 1 Axes>"
      ]
     },
     "metadata": {
      "needs_background": "light"
     },
     "output_type": "display_data"
    },
    {
     "data": {
      "image/png": "[encoded data removed]",
      "text/plain": [
       "<Figure size 1440x720 with 1 Axes>"
      ]
     },
     "metadata": {
      "needs_background": "light"
     },
     "output_type": "display_data"
    }
   ],
   "source": [
    "kendrick_3d = transformed_data_3d[:10]\n",
    "k3_x = [i[0] for i in kendrick_3d]\n",
    "k3_y = [i[1] for i in kendrick_3d]\n",
    "k3_z = [i[2] for i in kendrick_3d]\n",
    "\n",
    "garth_3d = transformed_data_3d[10:]\n",
    "g3_x = [i[0] for i in garth_3d]\n",
    "g3_y = [i[1] for i in garth_3d]\n",
    "g3_z = [i[2] for i in garth_3d]\n",
    "\n",
    "fig = plt.figure(figsize=(10,5))\n",
    "ax = fig.add_subplot(111, projection='3d')\n",
    "ax.scatter(k3_x, k3_y, k3_z, c='b', s=60, label='Kendrick')\n",
    "ax.scatter(g3_x, g3_y, g3_z, c='red', s=60, label='Garth')\n",
    "ax.view_init(40,10)\n",
    "ax.legend()\n",
    "plt.show()\n",
    "\n",
    "kendrick_2d = transformed_data_2d[:10]\n",
    "k2_x = [i[0] for i in kendrick_2d]\n",
    "k2_y = [i[1] for i in kendrick_2d]\n",
    "\n",
    "garth_2d = transformed_data_2d[10:]\n",
    "g2_x = [i[0] for i in garth_2d]\n",
    "g2_y = [i[1] for i in garth_2d]\n",
    "\n",
    "fig = plt.figure(figsize=(20,10))\n",
    "ax = fig.add_subplot(222)\n",
    "ax.scatter(k2_x, k2_y, c='b', label='Kendrick')\n",
    "ax.scatter(g2_x, g2_y, c='red', label='Garth')\n",
    "ax.legend()\n",
    "plt.show()"
   ]
  },
  {
   "cell_type": "markdown",
   "metadata": {},
   "source": [
    "Interesting! Take a crack at interpreting these graphs by answering the following questions below:\n",
    "\n",
    "What does each graph mean? Do you find one graph more informative than the other? Do you think that this method shows us discernable differences between Kendrick Lamar songs and Garth Brooks songs?  Use the graphs and your understanding of TF-IDF to support your answer.  "
   ]
  },
  {
   "cell_type": "code",
   "execution_count": 18,
   "metadata": {},
   "outputs": [],
   "source": [
    "'''\n",
    "WRITE YOUR ANSWER HERE\n",
    "\n",
    "Both graphs show a basic trend among the red and blue dots, although the 3-dimensional \n",
    "graph is more informative than the 2-dimensional graph. We see a separation between the \n",
    "two artists because they both have words that they use, but the other artist does not. \n",
    "\n",
    "The words in each song that are common to both are reduced to very small numbers or to 0, \n",
    "because of the log operation in the IDF function.  This means that the elements of each \n",
    "song vector with the highest values will be the ones that have words that are unique to \n",
    "that specific document, or at least are rarely used in others. \n",
    "''';"
   ]
  },
  {
   "cell_type": "markdown",
   "metadata": {},
   "source": [
    "## Summary\n",
    "\n",
    "In this lab, you learned how to: \n",
    "* Tokenize a corpus of words and identify the different choices to be made while parsing them \n",
    "* Use a count vectorization strategy to create a bag of words\n",
    "* Use TF-IDF vectorization with multiple documents to identify words that are important/unique to certain documents\n",
    "* Visualize and compare vectorized text documents"
   ]
  }
 ],
 "metadata": {
  "kernelspec": {
   "display_name": "Python (learn-env)",
   "language": "python",
   "name": "learn-env"
  },
  "language_info": {
   "codemirror_mode": {
    "name": "ipython",
    "version": 3
   },
   "file_extension": ".py",
   "mimetype": "text/x-python",
   "name": "python",
   "nbconvert_exporter": "python",
   "pygments_lexer": "ipython3",
   "version": "3.8.5"
  }
 },
 "nbformat": 4,
 "nbformat_minor": 2
}
